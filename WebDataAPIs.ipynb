{
 "cells": [
  {
   "cell_type": "markdown",
   "metadata": {},
   "source": [
    "# Getting data from the web - APIs\n",
    "\n",
    "### HTTP requests and responses\n",
    "#### Current weather in Dunedin"
   ]
  },
  {
   "cell_type": "code",
   "execution_count": 15,
   "metadata": {},
   "outputs": [
    {
     "name": "stdout",
     "output_type": "stream",
     "text": [
      "{'coord': {'lon': 170.5, 'lat': -45.87}, 'weather': [{'id': 801, 'main': 'Clouds', 'description': 'few clouds', 'icon': '02n'}], 'base': 'stations', 'main': {'temp': 281.115, 'pressure': 976.58, 'humidity': 79, 'temp_min': 281.115, 'temp_max': 281.115, 'sea_level': 1016.61, 'grnd_level': 976.58}, 'wind': {'speed': 0.31, 'deg': 333.504}, 'clouds': {'all': 24}, 'dt': 1537437097, 'sys': {'message': 0.0039, 'country': 'NZ', 'sunrise': 1537381885, 'sunset': 1537425140}, 'id': 2191562, 'name': 'Dunedin', 'cod': 200}\n"
     ]
    }
   ],
   "source": [
    "import requests\n",
    "\n",
    "#An API to find out the current weather in Dunedin\n",
    "r = requests.get('http://api.openweathermap.org/data/2.5/weather?q=Dunedin,nz&appid=f6b6fecf2c4292d8d19d201e57667588&mode=json')\n",
    "print(r.json())"
   ]
  },
  {
   "cell_type": "markdown",
   "metadata": {},
   "source": [
    "#### Apple stock prices over the last 5 years"
   ]
  },
  {
   "cell_type": "code",
   "execution_count": 16,
   "metadata": {},
   "outputs": [
    {
     "data": {
      "image/png": "[encoded data removed]",
      "text/plain": [
       "<matplotlib.figure.Figure at 0x13bc570ba90>"
      ]
     },
     "metadata": {},
     "output_type": "display_data"
    }
   ],
   "source": [
    "r = requests.get('https://api.iextrading.com/1.0//stock/aapl/chart/5y')\n",
    "r.json()\n",
    "\n",
    "#Then we can show this in a graph\n",
    "responseApple = requests.get('https://api.iextrading.com/1.0//stock/aapl/chart/5y')\n",
    "\n",
    "priceApple = []\n",
    "for a in responseApple.json()[:]:\n",
    "    priceApple.append(a['close'])\n",
    "plt.plot(priceApple,c='grey',label='Apple') \n",
    "leg = plt.legend(loc='best')\n",
    "plt.show()"
   ]
  },
  {
   "cell_type": "markdown",
   "metadata": {},
   "source": [
    "#### Twitter API"
   ]
  },
  {
   "cell_type": "code",
   "execution_count": 28,
   "metadata": {},
   "outputs": [
    {
     "name": "stdout",
     "output_type": "stream",
     "text": [
      "Requirement already satisfied: python-twitter in c:\\users\\zoe\\anaconda3\\lib\\site-packages (3.4.1)\n",
      "Requirement already satisfied: requests-oauthlib in c:\\users\\zoe\\anaconda3\\lib\\site-packages (from python-twitter) (0.8.0)\n",
      "Requirement already satisfied: requests in c:\\users\\zoe\\anaconda3\\lib\\site-packages (from python-twitter) (2.18.4)\n",
      "Requirement already satisfied: future in c:\\users\\zoe\\anaconda3\\lib\\site-packages (from python-twitter) (0.16.0)\n",
      "Requirement already satisfied: oauthlib>=0.6.2 in c:\\users\\zoe\\anaconda3\\lib\\site-packages (from requests-oauthlib->python-twitter) (2.0.7)\n",
      "Requirement already satisfied: chardet<3.1.0,>=3.0.2 in c:\\users\\zoe\\anaconda3\\lib\\site-packages (from requests->python-twitter) (3.0.4)\n",
      "Requirement already satisfied: idna<2.7,>=2.5 in c:\\users\\zoe\\anaconda3\\lib\\site-packages (from requests->python-twitter) (2.6)\n",
      "Requirement already satisfied: urllib3<1.23,>=1.21.1 in c:\\users\\zoe\\anaconda3\\lib\\site-packages (from requests->python-twitter) (1.22)\n",
      "Requirement already satisfied: certifi>=2017.4.17 in c:\\users\\zoe\\anaconda3\\lib\\site-packages (from requests->python-twitter) (2018.4.16)\n"
     ]
    },
    {
     "name": "stderr",
     "output_type": "stream",
     "text": [
      "You are using pip version 10.0.1, however version 18.0 is available.\n",
      "You should consider upgrading via the 'python -m pip install --upgrade pip' command.\n"
     ]
    },
    {
     "name": "stdout",
     "output_type": "stream",
     "text": [
      "Requirement already satisfied: ipykernel in c:\\users\\zoe\\anaconda3\\lib\\site-packages (4.9.0)\n",
      "Requirement already satisfied: traitlets>=4.1.0 in c:\\users\\zoe\\anaconda3\\lib\\site-packages (from ipykernel) (4.3.2)\n",
      "Requirement already satisfied: tornado>=4.0 in c:\\users\\zoe\\anaconda3\\lib\\site-packages (from ipykernel) (4.5.3)\n",
      "Requirement already satisfied: jupyter-client in c:\\users\\zoe\\anaconda3\\lib\\site-packages (from ipykernel) (5.2.2)\n",
      "Requirement already satisfied: ipython>=4.0.0 in c:\\users\\zoe\\anaconda3\\lib\\site-packages (from ipykernel) (6.2.1)\n",
      "Requirement already satisfied: ipython_genutils in c:\\users\\zoe\\anaconda3\\lib\\site-packages (from traitlets>=4.1.0->ipykernel) (0.2.0)\n",
      "Requirement already satisfied: six in c:\\users\\zoe\\anaconda3\\lib\\site-packages (from traitlets>=4.1.0->ipykernel) (1.11.0)\n",
      "Requirement already satisfied: decorator in c:\\users\\zoe\\anaconda3\\lib\\site-packages (from traitlets>=4.1.0->ipykernel) (4.2.1)\n",
      "Requirement already satisfied: jupyter_core in c:\\users\\zoe\\anaconda3\\lib\\site-packages (from jupyter-client->ipykernel) (4.4.0)\n",
      "Requirement already satisfied: pyzmq>=13 in c:\\users\\zoe\\anaconda3\\lib\\site-packages (from jupyter-client->ipykernel) (16.0.3)\n",
      "Requirement already satisfied: python-dateutil>=2.1 in c:\\users\\zoe\\anaconda3\\lib\\site-packages (from jupyter-client->ipykernel) (2.6.1)\n",
      "Requirement already satisfied: setuptools>=18.5 in c:\\users\\zoe\\anaconda3\\lib\\site-packages (from ipython>=4.0.0->ipykernel) (38.4.0)\n",
      "Requirement already satisfied: jedi>=0.10 in c:\\users\\zoe\\anaconda3\\lib\\site-packages (from ipython>=4.0.0->ipykernel) (0.11.1)\n",
      "Requirement already satisfied: pickleshare in c:\\users\\zoe\\anaconda3\\lib\\site-packages (from ipython>=4.0.0->ipykernel) (0.7.4)\n",
      "Requirement already satisfied: simplegeneric>0.8 in c:\\users\\zoe\\anaconda3\\lib\\site-packages (from ipython>=4.0.0->ipykernel) (0.8.1)\n",
      "Requirement already satisfied: prompt_toolkit<2.0.0,>=1.0.4 in c:\\users\\zoe\\anaconda3\\lib\\site-packages (from ipython>=4.0.0->ipykernel) (1.0.15)\n",
      "Requirement already satisfied: pygments in c:\\users\\zoe\\anaconda3\\lib\\site-packages (from ipython>=4.0.0->ipykernel) (2.2.0)\n",
      "Requirement already satisfied: colorama in c:\\users\\zoe\\anaconda3\\lib\\site-packages (from ipython>=4.0.0->ipykernel) (0.3.9)\n",
      "Requirement already satisfied: parso==0.1.* in c:\\users\\zoe\\anaconda3\\lib\\site-packages (from jedi>=0.10->ipython>=4.0.0->ipykernel) (0.1.1)\n",
      "Requirement already satisfied: wcwidth in c:\\users\\zoe\\anaconda3\\lib\\site-packages (from prompt_toolkit<2.0.0,>=1.0.4->ipython>=4.0.0->ipykernel) (0.1.7)\n"
     ]
    },
    {
     "name": "stderr",
     "output_type": "stream",
     "text": [
      "You are using pip version 10.0.1, however version 18.0 is available.\n",
      "You should consider upgrading via the 'python -m pip install --upgrade pip' command.\n"
     ]
    },
    {
     "name": "stdout",
     "output_type": "stream",
     "text": [
      "######\n",
      "The effects of living &amp; working in microgravity create changes in the human body. After 6 months spent in space, th… https://t.co/ZwgAccnnGB\n",
      "######\n",
      "Behold! The Earth's ultraviolet atomic oxygen emissions, seen here in the first observations of Earth’s upper atmos… https://t.co/mBYwpu337e\n",
      "######\n",
      "Our @NASAGlenn facility develops technologies to advance our space exploration program, including:\n",
      "\n",
      "✔Hybrid-electri… https://t.co/3y4rUhDLvI\n",
      "######\n",
      "RT @JimBridenstine: Exciting News! I’m doing a LIVE Watch this Space show next Thursday on @NASA TV with our latest class of astronaut cand…\n",
      "######\n",
      "L.A. — you're so hot…at least in spots. Our #ECOSTRESS mission captured new imagery of variations in surface temper… https://t.co/djYwcQoxMw\n",
      "######\n",
      "RT @NASA_TESS: The @NASA_TESS team is excited to announce the mission's first candidate  planet -- a super-Earth around the bright star Pi…\n",
      "######\n",
      "RT @WomenNASA: “It’s an honor to lead Marshall Space Flight Center as we push the boundaries of human space exploration and shape America’s…\n",
      "######\n",
      "A month into its mission, #ParkerSolarProbe sent back early observations showing its instruments are working well.… https://t.co/fYVqDmZ5MR\n",
      "######\n",
      "LIVE NOW: Our experts preview and discuss what will be humanity’s farthest planetary flyby, at 4 billion miles from… https://t.co/Ee90Fbetwg\n",
      "######\n",
      "At 1 p.m. EDT: Join us as our @NASANewHorizons experts discuss humanity’s farthest planetary flyby that is coming u… https://t.co/JPbD9OtPwE\n",
      "######\n",
      "As the Carolinas flood from torrential rainfall associated with #HurricaneFlorence, our @NASAEarth satellites conti… https://t.co/6JGm9fIufG\n",
      "######\n",
      "RT @JimBridenstine: LIVE: We are at the 10’ x 10’ Supersonic Wind Tunnel at @NASAglenn. https://t.co/PDROZSOweg\n",
      "######\n",
      "Loaded with 5+ tons of supplies, water, spare parts and experiments for the crew aboard the @Space_Station, the Jap… https://t.co/loJTHh29lx\n",
      "######\n",
      "Ahoy thar, space lubbers! Did ya know arr astronauts on that there @Space_Station arr usin' a sextant ta practice n… https://t.co/8objofbM17\n",
      "######\n",
      "RT @JimBridenstine: Very excited to be at @NASAglenn today! We have a great team here that designs, develops and tests game-changing techno…\n",
      "######\n",
      "#DidYouKnow that International @Space_Station is the third brightest object in the night sky? 🌃Find out when and wh… https://t.co/cjQV1kEVh8\n",
      "######\n",
      "Got GIFs? We do! See the latest animated look at space on our @GIPHY page! Check it out &amp; explore:… https://t.co/Z0p9ep0siE\n",
      "######\n",
      "Listen to our Gravity Assist podcast &amp; get a tour of:\n",
      "\n",
      "Our single ⭐️+ its closest planet ⚪️\n",
      "The 🔥 planet\n",
      "Our home 🌎… https://t.co/S00LaD7voJ\n",
      "######\n",
      "Understanding how sediments behave in various levels of simulated gravity aboard the @Space_Station has application… https://t.co/3ftTbKs9q0\n",
      "######\n",
      "#DidYouKnow: The @Space_Station is a perfect environment for creating protein crystal structures 💎 for research. Fi… https://t.co/EsjrX27Jqg\n",
      "Search results for space: \n",
      "\n",
      "The effects of living &amp; working in microgravity create changes in the human body. After 6 months spent in space, th… https://t.co/ZwgAccnnGB \n",
      "\n",
      "Behold! The Earth's ultraviolet atomic oxygen emissions, seen here in the first observations of Earth’s upper atmos… https://t.co/mBYwpu337e \n",
      "\n",
      "Our @NASAGlenn facility develops technologies to advance our space exploration program, including:\n",
      "\n",
      "✔Hybrid-electri… https://t.co/3y4rUhDLvI \n",
      "\n"
     ]
    }
   ],
   "source": [
    "!pip install python-twitter\n",
    "!pip install ipykernel\n",
    "\n",
    "import twitter\n",
    "#use your own API credentials here\n",
    "\n",
    "api = twitter.Api(consumer_key=\"VVOrgaCXVIvPfeby0on5ERHjB\",\n",
    "                  consumer_secret=\"5QNjO9U1PAVSf41FELmN8rvc0aQ1OtlgGdJXZ5vjoEPuMEoohT\",\n",
    "                      access_token_key=\"982053759613222912-VcKCtgM5T3DNSi1cZrY990cFePQCJkB\",\n",
    "                  access_token_secret=\"8jca8pKyJdaJTDAZfHGaiDml3ErU7tXcvzo9JA55yGz48\")\n",
    "\n",
    "import pandas as pd\n",
    "## get the user timeline with screen_name = '@NASA'\n",
    "twitter_statuses = api.GetUserTimeline(screen_name = '@NASA')\n",
    "\n",
    "## create a data frame\n",
    "pdSeriesList = [pd.Series(t.AsDict()) for t in twitter_statuses]\n",
    "\n",
    "## then create the data frame\n",
    "data = pd.DataFrame(pdSeriesList)\n",
    "\n",
    "#let's just print the top 4 for illustration purposes\n",
    "data.head(4)\n",
    "\n",
    "## filter tweets with enough retweet_count\n",
    "maybe_interesting = data[data.retweet_count>20]\n",
    "\n",
    "## get the text of these tweets\n",
    "tweet_text = maybe_interesting.text\n",
    "\n",
    "## print them out\n",
    "text = tweet_text.values\n",
    "\n",
    "for t in text:\n",
    "    print('######')\n",
    "    print(t)\n",
    "    \n",
    "## filter tweets from a certain date that contain the word 'space', and let's limit the number of objects back to just 5\n",
    "results = api.GetSearch(raw_query=\"q=Space&since=2016-09-19&from=NASA&count=3\")\n",
    "print('Search results for space: \\n')\n",
    "for r in results:\n",
    "    print(r.text,\"\\n\")\n",
    "    \n",
    "    \n",
    "\n",
    "\n",
    "\n"
   ]
  },
  {
   "cell_type": "code",
   "execution_count": null,
   "metadata": {},
   "outputs": [],
   "source": []
  }
 ],
 "metadata": {
  "kernelspec": {
   "display_name": "Python 3",
   "language": "python",
   "name": "python3"
  },
  "language_info": {
   "codemirror_mode": {
    "name": "ipython",
    "version": 3
   },
   "file_extension": ".py",
   "mimetype": "text/x-python",
   "name": "python",
   "nbconvert_exporter": "python",
   "pygments_lexer": "ipython3",
   "version": "3.6.4"
  }
 },
 "nbformat": 4,
 "nbformat_minor": 2
}
